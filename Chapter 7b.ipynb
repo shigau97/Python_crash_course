{
 "cells": [
  {
   "cell_type": "code",
   "execution_count": 14,
   "metadata": {},
   "outputs": [
    {
     "name": "stdout",
     "output_type": "stream",
     "text": [
      "\n",
      "Verifying user: Duple\n",
      "\n",
      "Verifying user: Shuka\n",
      "\n",
      "Verifying user: Daisy\n",
      "\n",
      "Verifying user: Maya\n",
      "\n",
      "Verifying user: Seine\n",
      "\n",
      "The following users have been confirmed:\n",
      "duple\n",
      "shuka\n",
      "daisy\n",
      "maya\n",
      "seine\n"
     ]
    }
   ],
   "source": [
    "#for working between the lists and using pop to removing from a list\n",
    "unconfirmed_users = ['seine', 'maya', 'daisy', 'shuka', 'duple']\n",
    "confirmed_users = []\n",
    "while unconfirmed_users:\n",
    "    current_user = unconfirmed_users.pop()\n",
    "    print(f\"\\nVerifying user: {current_user.title()}\")\n",
    "    confirmed_users.append(current_user)\n",
    "print(\"\\nThe following users have been confirmed:\")\n",
    "for confirmed_listed in confirmed_users:\n",
    "    print(confirmed_listed)        "
   ]
  },
  {
   "cell_type": "code",
   "execution_count": 18,
   "metadata": {},
   "outputs": [
    {
     "name": "stdout",
     "output_type": "stream",
     "text": [
      "What is your name?shivani\n",
      "Please enter the type of mountain you would like to climb:k2\n",
      "Would you like to let other person respond? (yes/no)no\n",
      "\n",
      "---Poll results---\n",
      "\n",
      "shivani would like to climb k2.\n"
     ]
    }
   ],
   "source": [
    "#polling code\n",
    "responses = {}\n",
    "\n",
    "#setting flag for indicating polling is active\n",
    "polling_active = True\n",
    "\n",
    "while polling_active:\n",
    "    #prompting the person's name and response:\n",
    "    name = input(\"What is your name?\")\n",
    "    response = input(\"Please enter the type of mountain you would like to climb:\")\n",
    "    \n",
    "    #storing the values in the dictionary\n",
    "    responses[name] = response\n",
    "    \n",
    "    repeat = input(\"Would you like to let other person respond? (yes/no)\")\n",
    "    if repeat == 'no':\n",
    "        polling_active = False\n",
    "#polling is complete show the results:\n",
    "print(\"\\n---Poll results---\")\n",
    "for name, response in responses.items():\n",
    "    print(f\"\\n{name} would like to climb {response}.\")"
   ]
  },
  {
   "cell_type": "code",
   "execution_count": 22,
   "metadata": {},
   "outputs": [
    {
     "name": "stdout",
     "output_type": "stream",
     "text": [
      "\n",
      "Making cheddar-cheese sandwich\n",
      "I made you a cheddar-cheese\n",
      "\n",
      "Making double-cheese sandwich\n",
      "I made you a double-cheese\n",
      "\n",
      "Making tuna sandwich\n",
      "I made you a tuna\n",
      "\n",
      "Making cheese sandwich\n",
      "I made you a cheese\n",
      "\n",
      "List of sandwiches made today:\n",
      "cheddar-cheese\n",
      "double-cheese\n",
      "tuna\n",
      "cheese\n"
     ]
    }
   ],
   "source": [
    "sandwich_orders = ['cheese', 'tuna', 'double-cheese','cheddar-cheese']\n",
    "finished_sandwiches = []\n",
    "\n",
    "while sandwich_orders:\n",
    "    current_sandwich = sandwich_orders.pop()\n",
    "    finished_sandwiches.append(current_sandwich)\n",
    "    print(f\"\\nMaking {current_sandwich} sandwich\")\n",
    "    print(f\"I made you a {current_sandwich}\")\n",
    "print(\"\\nList of sandwiches made today:\")\n",
    "for finished_sandwich in finished_sandwiches:\n",
    "    print(finished_sandwich)"
   ]
  },
  {
   "cell_type": "code",
   "execution_count": null,
   "metadata": {},
   "outputs": [],
   "source": []
  }
 ],
 "metadata": {
  "kernelspec": {
   "display_name": "Python 3",
   "language": "python",
   "name": "python3"
  },
  "language_info": {
   "codemirror_mode": {
    "name": "ipython",
    "version": 3
   },
   "file_extension": ".py",
   "mimetype": "text/x-python",
   "name": "python",
   "nbconvert_exporter": "python",
   "pygments_lexer": "ipython3",
   "version": "3.6.4"
  }
 },
 "nbformat": 4,
 "nbformat_minor": 2
}
